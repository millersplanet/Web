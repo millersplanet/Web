{
 "cells": [
  {
   "cell_type": "code",
   "execution_count": 1,
   "id": "edbe09b6",
   "metadata": {},
   "outputs": [
    {
     "name": "stdout",
     "output_type": "stream",
     "text": [
      "Collecting selenium\n",
      "  Downloading selenium-4.19.0-py3-none-any.whl (10.5 MB)\n",
      "                                              0.0/10.5 MB ? eta -:--:--\n",
      "                                              0.2/10.5 MB 5.9 MB/s eta 0:00:02\n",
      "     ---                                      0.8/10.5 MB 10.0 MB/s eta 0:00:01\n",
      "     -----                                    1.3/10.5 MB 10.6 MB/s eta 0:00:01\n",
      "     -------                                  1.9/10.5 MB 10.7 MB/s eta 0:00:01\n",
      "     ---------                                2.4/10.5 MB 11.1 MB/s eta 0:00:01\n",
      "     -----------                              2.9/10.5 MB 11.0 MB/s eta 0:00:01\n",
      "     ------------                             3.4/10.5 MB 10.7 MB/s eta 0:00:01\n",
      "     --------------                           3.9/10.5 MB 10.8 MB/s eta 0:00:01\n",
      "     ----------------                         4.4/10.5 MB 10.7 MB/s eta 0:00:01\n",
      "     ------------------                       4.9/10.5 MB 11.2 MB/s eta 0:00:01\n",
      "     --------------------                     5.3/10.5 MB 10.6 MB/s eta 0:00:01\n",
      "     ---------------------                    5.8/10.5 MB 10.5 MB/s eta 0:00:01\n",
      "     -----------------------                  6.2/10.5 MB 10.4 MB/s eta 0:00:01\n",
      "     -------------------------                6.7/10.5 MB 10.7 MB/s eta 0:00:01\n",
      "     ---------------------------              7.2/10.5 MB 10.6 MB/s eta 0:00:01\n",
      "     -----------------------------            7.6/10.5 MB 10.6 MB/s eta 0:00:01\n",
      "     -------------------------------          8.2/10.5 MB 10.7 MB/s eta 0:00:01\n",
      "     ---------------------------------        8.8/10.5 MB 10.8 MB/s eta 0:00:01\n",
      "     -----------------------------------      9.2/10.5 MB 10.8 MB/s eta 0:00:01\n",
      "     ------------------------------------     9.7/10.5 MB 10.7 MB/s eta 0:00:01\n",
      "     --------------------------------------  10.3/10.5 MB 11.1 MB/s eta 0:00:01\n",
      "     --------------------------------------  10.4/10.5 MB 10.7 MB/s eta 0:00:01\n",
      "     --------------------------------------- 10.5/10.5 MB 10.2 MB/s eta 0:00:00\n",
      "Requirement already satisfied: urllib3[socks]<3,>=1.26 in c:\\users\\user\\anaconda3\\lib\\site-packages (from selenium) (1.26.16)\n",
      "Collecting trio~=0.17 (from selenium)\n",
      "  Downloading trio-0.25.0-py3-none-any.whl (467 kB)\n",
      "                                              0.0/467.2 kB ? eta -:--:--\n",
      "     -------------------------------------  460.8/467.2 kB 9.6 MB/s eta 0:00:01\n",
      "     -------------------------------------- 467.2/467.2 kB 7.3 MB/s eta 0:00:00\n",
      "Collecting trio-websocket~=0.9 (from selenium)\n",
      "  Downloading trio_websocket-0.11.1-py3-none-any.whl (17 kB)\n",
      "Requirement already satisfied: certifi>=2021.10.8 in c:\\users\\user\\anaconda3\\lib\\site-packages (from selenium) (2023.5.7)\n",
      "Collecting typing_extensions>=4.9.0 (from selenium)\n",
      "  Downloading typing_extensions-4.11.0-py3-none-any.whl (34 kB)\n",
      "Collecting attrs>=23.2.0 (from trio~=0.17->selenium)\n",
      "  Downloading attrs-23.2.0-py3-none-any.whl (60 kB)\n",
      "                                              0.0/60.8 kB ? eta -:--:--\n",
      "     ---------------------------------------- 60.8/60.8 kB ? eta 0:00:00\n",
      "Requirement already satisfied: sortedcontainers in c:\\users\\user\\anaconda3\\lib\\site-packages (from trio~=0.17->selenium) (2.4.0)\n",
      "Requirement already satisfied: idna in c:\\users\\user\\anaconda3\\lib\\site-packages (from trio~=0.17->selenium) (3.4)\n",
      "Collecting outcome (from trio~=0.17->selenium)\n",
      "  Downloading outcome-1.3.0.post0-py2.py3-none-any.whl (10 kB)\n",
      "Collecting sniffio>=1.3.0 (from trio~=0.17->selenium)\n",
      "  Downloading sniffio-1.3.1-py3-none-any.whl (10 kB)\n",
      "Requirement already satisfied: cffi>=1.14 in c:\\users\\user\\anaconda3\\lib\\site-packages (from trio~=0.17->selenium) (1.15.1)\n",
      "Collecting wsproto>=0.14 (from trio-websocket~=0.9->selenium)\n",
      "  Downloading wsproto-1.2.0-py3-none-any.whl (24 kB)\n",
      "Requirement already satisfied: PySocks!=1.5.7,<2.0,>=1.5.6 in c:\\users\\user\\anaconda3\\lib\\site-packages (from urllib3[socks]<3,>=1.26->selenium) (1.7.1)\n",
      "Requirement already satisfied: pycparser in c:\\users\\user\\anaconda3\\lib\\site-packages (from cffi>=1.14->trio~=0.17->selenium) (2.21)\n",
      "Collecting h11<1,>=0.9.0 (from wsproto>=0.14->trio-websocket~=0.9->selenium)\n",
      "  Downloading h11-0.14.0-py3-none-any.whl (58 kB)\n",
      "                                              0.0/58.3 kB ? eta -:--:--\n",
      "     ---------------------------------------- 58.3/58.3 kB 3.0 MB/s eta 0:00:00\n",
      "Installing collected packages: typing_extensions, sniffio, h11, attrs, wsproto, outcome, trio, trio-websocket, selenium\n",
      "  Attempting uninstall: typing_extensions\n",
      "    Found existing installation: typing_extensions 4.6.3\n",
      "    Uninstalling typing_extensions-4.6.3:\n",
      "      Successfully uninstalled typing_extensions-4.6.3\n",
      "  Attempting uninstall: sniffio\n",
      "    Found existing installation: sniffio 1.2.0\n",
      "    Uninstalling sniffio-1.2.0:\n",
      "      Successfully uninstalled sniffio-1.2.0\n",
      "  Attempting uninstall: attrs\n",
      "    Found existing installation: attrs 22.1.0\n",
      "    Uninstalling attrs-22.1.0:\n",
      "      Successfully uninstalled attrs-22.1.0\n",
      "Successfully installed attrs-23.2.0 h11-0.14.0 outcome-1.3.0.post0 selenium-4.19.0 sniffio-1.3.1 trio-0.25.0 trio-websocket-0.11.1 typing_extensions-4.11.0 wsproto-1.2.0\n",
      "Note: you may need to restart the kernel to use updated packages.\n"
     ]
    }
   ],
   "source": [
    "pip install selenium"
   ]
  },
  {
   "cell_type": "code",
   "execution_count": 6,
   "id": "9f24c0b8",
   "metadata": {},
   "outputs": [],
   "source": [
    "import requests as req\n",
    "from bs4 import BeautifulSoup as bs\n",
    "import pandas as pd\n",
    "from selenium import webdriver as wb\n",
    "from selenium.webdriver.common.by import By\n",
    "import time"
   ]
  },
  {
   "cell_type": "code",
   "execution_count": 7,
   "id": "4c97e536",
   "metadata": {},
   "outputs": [
    {
     "name": "stderr",
     "output_type": "stream",
     "text": [
      "The chromedriver version (123.0.6312.122) detected in PATH at C:\\Users\\user\\prac\\chromedriver.exe might not be compatible with the detected chrome version (124.0.6367.60); currently, chromedriver 124.0.6367.60 is recommended for chrome 124.*, so it is advised to delete the driver in PATH and retry\n"
     ]
    }
   ],
   "source": [
    "driver = wb.Chrome()\n",
    "driver.get('https://www.hsd.co.kr/menu/menu_list')"
   ]
  },
  {
   "cell_type": "code",
   "execution_count": 8,
   "id": "066c182f",
   "metadata": {},
   "outputs": [],
   "source": [
    "#더보기 버튼 요소 가져오기\n",
    "driver.find_element(By.CLASS_NAME, \"c_05\").click()"
   ]
  },
  {
   "cell_type": "code",
   "execution_count": 9,
   "id": "02e3eeb9",
   "metadata": {},
   "outputs": [
    {
     "name": "stdout",
     "output_type": "stream",
     "text": [
      "클릭완료\n"
     ]
    }
   ],
   "source": [
    "#더보기 버튼이 몇 개 있는지 모르는 문제 해결\n",
    "try :    \n",
    "    for i in range(30) :\n",
    "        btn_more = driver.find_element(By.CLASS_NAME, \"c_05\")\n",
    "        btn_more.click()\n",
    "        time.sleep(2) #클릭 이후 기다려주는 시간\n",
    "except :\n",
    "    print(\"클릭완료\")"
   ]
  },
  {
   "cell_type": "code",
   "execution_count": 10,
   "id": "a0c29c1f",
   "metadata": {},
   "outputs": [],
   "source": [
    "soup = bs(driver.page_source, 'lxml')"
   ]
  },
  {
   "cell_type": "code",
   "execution_count": 11,
   "id": "cbd40318",
   "metadata": {},
   "outputs": [],
   "source": [
    "menu = soup.select('h4.h.fz_03')\n",
    "price = soup.select('div.item-price>strong')"
   ]
  },
  {
   "cell_type": "code",
   "execution_count": 12,
   "id": "527afe51",
   "metadata": {},
   "outputs": [],
   "source": [
    "menu_list = []\n",
    "price_list = []\n",
    "for i in range (len(menu)) :\n",
    "    menu_list.append(menu[i].text)\n",
    "    price_list.append(price[i].text)\n",
    "\n",
    "# 드라이버 닫기\n",
    "driver.quit()"
   ]
  },
  {
   "cell_type": "code",
   "execution_count": 13,
   "id": "960d5d88",
   "metadata": {},
   "outputs": [],
   "source": [
    "data = {'메뉴' : menu_list,\n",
    "       '가격': price_list}\n",
    "한솥 = pd.DataFrame(data)\n",
    "한솥.index=한솥.index+1"
   ]
  },
  {
   "cell_type": "code",
   "execution_count": 14,
   "id": "6493548b",
   "metadata": {},
   "outputs": [
    {
     "data": {
      "text/html": [
       "<div>\n",
       "<style scoped>\n",
       "    .dataframe tbody tr th:only-of-type {\n",
       "        vertical-align: middle;\n",
       "    }\n",
       "\n",
       "    .dataframe tbody tr th {\n",
       "        vertical-align: top;\n",
       "    }\n",
       "\n",
       "    .dataframe thead th {\n",
       "        text-align: right;\n",
       "    }\n",
       "</style>\n",
       "<table border=\"1\" class=\"dataframe\">\n",
       "  <thead>\n",
       "    <tr style=\"text-align: right;\">\n",
       "      <th></th>\n",
       "      <th>메뉴</th>\n",
       "      <th>가격</th>\n",
       "    </tr>\n",
       "  </thead>\n",
       "  <tbody>\n",
       "    <tr>\n",
       "      <th>1</th>\n",
       "      <td>스페셜 하이라이스</td>\n",
       "      <td>5,900</td>\n",
       "    </tr>\n",
       "    <tr>\n",
       "      <th>2</th>\n",
       "      <td>송정식 떡갈비 Ⅱ</td>\n",
       "      <td>6,900</td>\n",
       "    </tr>\n",
       "    <tr>\n",
       "      <th>3</th>\n",
       "      <td>이남장 설렁탕</td>\n",
       "      <td>7,900</td>\n",
       "    </tr>\n",
       "    <tr>\n",
       "      <th>4</th>\n",
       "      <td>제육돈까스 도련님</td>\n",
       "      <td>4,900</td>\n",
       "    </tr>\n",
       "    <tr>\n",
       "      <th>5</th>\n",
       "      <td>사골 조랭이떡 만둣국</td>\n",
       "      <td>5,900</td>\n",
       "    </tr>\n",
       "    <tr>\n",
       "      <th>...</th>\n",
       "      <td>...</td>\n",
       "      <td>...</td>\n",
       "    </tr>\n",
       "    <tr>\n",
       "      <th>92</th>\n",
       "      <td>김치</td>\n",
       "      <td>400</td>\n",
       "    </tr>\n",
       "    <tr>\n",
       "      <th>93</th>\n",
       "      <td>무말랭이 무침</td>\n",
       "      <td>500</td>\n",
       "    </tr>\n",
       "    <tr>\n",
       "      <th>94</th>\n",
       "      <td>한솥밥</td>\n",
       "      <td>1,000</td>\n",
       "    </tr>\n",
       "    <tr>\n",
       "      <th>95</th>\n",
       "      <td>현미밥</td>\n",
       "      <td>1,700</td>\n",
       "    </tr>\n",
       "    <tr>\n",
       "      <th>96</th>\n",
       "      <td>리얼꿀 미니호떡</td>\n",
       "      <td>2,200</td>\n",
       "    </tr>\n",
       "  </tbody>\n",
       "</table>\n",
       "<p>96 rows × 2 columns</p>\n",
       "</div>"
      ],
      "text/plain": [
       "             메뉴     가격\n",
       "1     스페셜 하이라이스  5,900\n",
       "2     송정식 떡갈비 Ⅱ  6,900\n",
       "3       이남장 설렁탕  7,900\n",
       "4     제육돈까스 도련님  4,900\n",
       "5   사골 조랭이떡 만둣국  5,900\n",
       "..          ...    ...\n",
       "92           김치    400\n",
       "93      무말랭이 무침    500\n",
       "94          한솥밥  1,000\n",
       "95          현미밥  1,700\n",
       "96     리얼꿀 미니호떡  2,200\n",
       "\n",
       "[96 rows x 2 columns]"
      ]
     },
     "execution_count": 14,
     "metadata": {},
     "output_type": "execute_result"
    }
   ],
   "source": [
    "한솥.to_csv('한솥도시락메뉴판.csv', encoding='euc-kr')\n",
    "pd.read_csv('한솥도시락메뉴판.csv', encoding='euc-kr', index_col=0) #마지막 index 옵션은 자동으로 생성되는 인덱스 칼럼 생성하지 않겠다는 뜻"
   ]
  }
 ],
 "metadata": {
  "kernelspec": {
   "display_name": "Python 3 (ipykernel)",
   "language": "python",
   "name": "python3"
  },
  "language_info": {
   "codemirror_mode": {
    "name": "ipython",
    "version": 3
   },
   "file_extension": ".py",
   "mimetype": "text/x-python",
   "name": "python",
   "nbconvert_exporter": "python",
   "pygments_lexer": "ipython3",
   "version": "3.11.3"
  }
 },
 "nbformat": 4,
 "nbformat_minor": 5
}
